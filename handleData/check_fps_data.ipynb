{
 "cells": [
  {
   "cell_type": "code",
   "execution_count": 1,
   "id": "9f914706",
   "metadata": {},
   "outputs": [
    {
     "name": "stdout",
     "output_type": "stream",
     "text": [
      "Total valid videos: 4752\n",
      "Average FPS: 29.94\n"
     ]
    }
   ],
   "source": [
    "import cv2\n",
    "import os\n",
    "\n",
    "def calculate_average_fps(folder_root):\n",
    "    video_extensions = ('.mp4', '.avi', '.mov', '.mkv', '.flv', '.wmv')\n",
    "\n",
    "    fps_total = 0\n",
    "    count = 0\n",
    "\n",
    "    # Walk through all directories and files recursively starting from folder_root\n",
    "    for root, dirs, files in os.walk(folder_root):\n",
    "        for file in files:\n",
    "            # Check if the file has a video extension\n",
    "            if file.lower().endswith(video_extensions):\n",
    "                video_path = os.path.join(root, file)\n",
    "                cap = cv2.VideoCapture(video_path)\n",
    "                \n",
    "                # Verify if the video can be opened\n",
    "                if not cap.isOpened():\n",
    "                    print(f\"Cannot open video: {video_path}\")\n",
    "                    continue\n",
    "                \n",
    "                # Retrieve the FPS of the video\n",
    "                fps = cap.get(cv2.CAP_PROP_FPS)\n",
    "                \n",
    "                # Only count valid FPS values greater than zero\n",
    "                if fps > 0:\n",
    "                    fps_total += fps\n",
    "                    count += 1\n",
    "                \n",
    "                # Release the video capture object\n",
    "                cap.release()\n",
    "\n",
    "    # Calculate and display the average FPS if any valid videos were found\n",
    "    if count > 0:\n",
    "        avg_fps = fps_total / count\n",
    "        print(f\"Total valid videos: {count}\")\n",
    "        print(f\"Average FPS: {avg_fps:.2f}\")\n",
    "    else:\n",
    "        print(\"No valid videos found in the directory.\")\n",
    "\n",
    "# Replace 'your_main_folder_path' with the actual folder path containing videos\n",
    "folder_root = '../../resized_video'\n",
    "calculate_average_fps(folder_root)"
   ]
  }
 ],
 "metadata": {
  "kernelspec": {
   "display_name": "Python 3",
   "language": "python",
   "name": "python3"
  },
  "language_info": {
   "codemirror_mode": {
    "name": "ipython",
    "version": 3
   },
   "file_extension": ".py",
   "mimetype": "text/x-python",
   "name": "python",
   "nbconvert_exporter": "python",
   "pygments_lexer": "ipython3",
   "version": "3.10.0rc2"
  }
 },
 "nbformat": 4,
 "nbformat_minor": 5
}
